{
 "cells": [
  {
   "cell_type": "code",
   "execution_count": 1,
   "metadata": {},
   "outputs": [],
   "source": [
    "import pyspark\n",
    "import time\n",
    "from pyspark.streaming import StreamingContext\n",
    "from socket import *\n",
    "from threading import Thread\n",
    "from opensky_api import OpenSkyApi\n",
    "import json\n",
    "from pyspark.sql import Row, SparkSession\n",
    "\n",
    "sc = pyspark.SparkContext(\"local[4]\", \"app\")"
   ]
  },
  {
   "cell_type": "code",
   "execution_count": 2,
   "metadata": {},
   "outputs": [],
   "source": [
    "class streamer(Thread):\n",
    "    \n",
    "    def __init__(self, sc):\n",
    "        Thread.__init__(self)\n",
    "        self.sc = sc\n",
    "        \n",
    "    def getSparkSessionInstance(self, sparkConf):\n",
    "        if ('sparkSessionSingletonInstance' not in globals()):\n",
    "            globals()['sparkSessionSingletonInstance'] = SparkSession\\\n",
    "                .builder\\\n",
    "                .config(conf=sparkConf)\\\n",
    "                .getOrCreate()\n",
    "        return globals()['sparkSessionSingletonInstance']\n",
    "\n",
    "    def run(self):\n",
    "        \n",
    "        batchInterval = 1\n",
    "        ssc = StreamingContext(self.sc, batchInterval)\n",
    "        socketDstream = ssc.socketTextStream(\"localhost\", 5555)   \n",
    "        jsonMsg = socketDstream.map(lambda x: json.loads(x))\n",
    "\n",
    "        jsonFlights = jsonMsg.flatMap(lambda x: x).map(lambda x: (x['callsign'][0:3], 1))\n",
    "        airlinesCodes = jsonFlights.reduceByKey(lambda a, b: a+b).transform(lambda rdd: \n",
    "                                                            rdd.sortBy(lambda x: x[1], ascending=False))\n",
    "        #airlinesCodes.pprint()\n",
    "        airlinesCodes.foreachRDD(self.process)\n",
    "        ssc.start()\n",
    "        #time.sleep(120)       \n",
    "        #ssc.stop()\n",
    "        \n",
    "    def process(self, time, rdd):\n",
    "        print(\"========= %s =========\" % str(time))\n",
    "        try:\n",
    "            spark = self.getSparkSessionInstance(rdd.context.getConf())\n",
    "            rowRdd = rdd.map(lambda w: Row(airline=w[0], count=w[1]))\n",
    "            wordsDataFrame = spark.createDataFrame(rowRdd)\n",
    "            #wordsDataFrame.toPandas().head()\n",
    "            #data = [go.Histogram(x = wordsDataFrame.toPandas()['airline'])]           \n",
    "            #pyo.iplot(data, filename=\"spark/less_2_hour_rides\")\n",
    "            wordsDataFrame.createOrReplaceTempView(\"airlines\")\n",
    "            # Filter null callsigns\n",
    "            wordCountsDataFrame = \\\n",
    "                spark.sql(\"select * from airlines where length(airline) > 2\")\n",
    "            print(wordCountsDataFrame.toPandas().head())\n",
    "            \n",
    "        except Exception as e: \n",
    "            \n",
    "            print(e)\n",
    "            pass\n",
    "        \n",
    "        "
   ]
  },
  {
   "cell_type": "code",
   "execution_count": 3,
   "metadata": {},
   "outputs": [],
   "source": [
    "#pyo.init_notebook_mode(connected=True)\n",
    "streamer(sc).start()\n",
    "#broadcaster_api().start()"
   ]
  },
  {
   "cell_type": "code",
   "execution_count": 1,
   "metadata": {},
   "outputs": [],
   "source": [
    "#sc"
   ]
  }
 ],
 "metadata": {
  "kernelspec": {
   "display_name": "Python 3",
   "language": "python",
   "name": "python3"
  },
  "language_info": {
   "codemirror_mode": {
    "name": "ipython",
    "version": 3
   },
   "file_extension": ".py",
   "mimetype": "text/x-python",
   "name": "python",
   "nbconvert_exporter": "python",
   "pygments_lexer": "ipython3",
   "version": "3.6.6"
  }
 },
 "nbformat": 4,
 "nbformat_minor": 2
}
