{
 "cells": [
  {
   "cell_type": "code",
   "execution_count": 9,
   "metadata": {},
   "outputs": [],
   "source": [
    "import pyspark\n",
    "import time\n",
    "from pyspark.streaming import StreamingContext\n",
    "from socket import *\n",
    "from threading import Thread\n",
    "from opensky_api import OpenSkyApi\n",
    "import json\n",
    "from pyspark.sql import Row, SparkSession\n",
    "import matplotlib.pyplot as plt\n",
    "from IPython import display\n",
    "\n",
    "sc = pyspark.SparkContext(\"local[4]\", \"app\")"
   ]
  },
  {
   "cell_type": "markdown",
   "metadata": {},
   "source": [
    "## Spark SQL functions"
   ]
  },
  {
   "cell_type": "code",
   "execution_count": 10,
   "metadata": {},
   "outputs": [],
   "source": [
    "def getSparkSessionInstance(sparkConf):\n",
    "    if ('sparkSessionSingletonInstance' not in globals()):\n",
    "        globals()['sparkSessionSingletonInstance'] = SparkSession\\\n",
    "            .builder\\\n",
    "            .config(conf=sparkConf)\\\n",
    "            .getOrCreate()\n",
    "    return globals()['sparkSessionSingletonInstance']\n",
    "        \n",
    "def process_airlines(time, rdd):\n",
    "    #print(\"========= %s =========\" % str(time))\n",
    "    try:\n",
    "        spark = getSparkSessionInstance(rdd.context.getConf())\n",
    "        rowRdd = rdd.map(lambda w: Row(airline=w[0], count=w[1]))\n",
    "        wordsDataFrame = spark.createDataFrame(rowRdd)\n",
    "        wordsDataFrame.createOrReplaceTempView(\"airlines\")\n",
    "    except Exception as e:    \n",
    "        #print(e)\n",
    "        pass\n",
    "    \n",
    "def get_airlines():\n",
    "    spark = globals()[\"sparkSessionSingletonInstance\"]\n",
    "    return spark.sql(\"select * from airlines where length(airline) > 2\").toPandas()"
   ]
  },
  {
   "cell_type": "markdown",
   "metadata": {},
   "source": [
    "## Input socket stream"
   ]
  },
  {
   "cell_type": "code",
   "execution_count": 4,
   "metadata": {},
   "outputs": [],
   "source": [
    "%run ads-server.py"
   ]
  },
  {
   "cell_type": "code",
   "execution_count": 11,
   "metadata": {},
   "outputs": [],
   "source": [
    "batchInterval = 3\n",
    "ssc = StreamingContext(sc, batchInterval)\n",
    "socketDstream = ssc.socketTextStream(\"localhost\", 5555)\n",
    "jsonMsg = socketDstream.map(lambda x: json.loads(x))"
   ]
  },
  {
   "cell_type": "markdown",
   "metadata": {},
   "source": [
    "## AIrline codes"
   ]
  },
  {
   "cell_type": "code",
   "execution_count": 12,
   "metadata": {},
   "outputs": [],
   "source": [
    "jsonFlights = jsonMsg.flatMap(lambda x: x).map(lambda x: (x['callsign'][0:3], 1))\n",
    "airlinesCodes = jsonFlights.reduceByKey(lambda a, b: a+b).transform(lambda rdd: \n",
    "                                                            rdd.sortBy(lambda x: x[1], ascending=False))\n",
    "airlinesCodes.foreachRDD(process_airlines)"
   ]
  },
  {
   "cell_type": "code",
   "execution_count": 13,
   "metadata": {},
   "outputs": [],
   "source": [
    "ssc.start()\n",
    "#time.sleep(120)       \n",
    "#ssc.stop()"
   ]
  },
  {
   "cell_type": "code",
   "execution_count": 9,
   "metadata": {},
   "outputs": [],
   "source": [
    "spark = globals()[\"sparkSessionSingletonInstance\"]\n",
    "df_airlines = spark.sql(\"select * from airlines where length(airline) > 2\").toPandas()"
   ]
  },
  {
   "cell_type": "code",
   "execution_count": 24,
   "metadata": {},
   "outputs": [
    {
     "name": "stdout",
     "output_type": "stream",
     "text": [
      "+-------+-----+\n",
      "|airline|count|\n",
      "+-------+-----+\n",
      "|    SWR|    8|\n",
      "|    DLH|    4|\n",
      "|    TAR|    2|\n",
      "|    BAW|    2|\n",
      "|    RYR|    2|\n",
      "|    EZS|    2|\n",
      "|    VOE|    1|\n",
      "|    TOM|    1|\n",
      "|    UAE|    1|\n",
      "|    AUA|    1|\n",
      "|    AFR|    1|\n",
      "|    GSW|    1|\n",
      "|    LMU|    1|\n",
      "|    IAW|    1|\n",
      "|    EWG|    1|\n",
      "|    FBR|    1|\n",
      "|    MSR|    1|\n",
      "|    SVA|    1|\n",
      "|    FEG|    1|\n",
      "|    THY|    1|\n",
      "+-------+-----+\n",
      "only showing top 20 rows\n",
      "\n",
      "RDD is empty\n",
      "RDD is empty\n"
     ]
    }
   ],
   "source": [
    "df_airlines = spark.sql(\"select * from airlines where length(airline) > 2\")\n",
    "df_airlines.show()"
   ]
  },
  {
   "cell_type": "code",
   "execution_count": 20,
   "metadata": {},
   "outputs": [
    {
     "data": {
      "text/plain": [
       "airline    object\n",
       "count       int64\n",
       "dtype: object"
      ]
     },
     "execution_count": 20,
     "metadata": {},
     "output_type": "execute_result"
    }
   ],
   "source": [
    "df_airlines = get_airlines()\n",
    "df_airlines.dtypes"
   ]
  },
  {
   "cell_type": "code",
   "execution_count": 1,
   "metadata": {},
   "outputs": [],
   "source": [
    "while(True):\n",
    "    \n",
    "    df_airlines = get_airlines()\n",
    "    x = range(df_airlines.shape[0])\n",
    "    fig, ax = plt.subplots(figsize=(14,6))\n",
    "    plt.bar(x, df_airlines['count'])\n",
    "    plt.xticks(x, df_airlines.airline, rotation='vertical')\n",
    "    display.clear_output(wait=True)\n",
    "    display.display(plt.gcf())\n",
    "    time.sleep(10)\n",
    "    #except KeyboardInterrupt:\n",
    "    #    break"
   ]
  },
  {
   "cell_type": "code",
   "execution_count": 14,
   "metadata": {},
   "outputs": [
    {
     "data": {
      "text/html": [
       "\n",
       "        <div>\n",
       "            <p><b>SparkContext</b></p>\n",
       "\n",
       "            <p><a href=\"http://PMI-D-BCWLN72.tuitravel-ad.net:4040\">Spark UI</a></p>\n",
       "\n",
       "            <dl>\n",
       "              <dt>Version</dt>\n",
       "                <dd><code>v2.3.1</code></dd>\n",
       "              <dt>Master</dt>\n",
       "                <dd><code>local[4]</code></dd>\n",
       "              <dt>AppName</dt>\n",
       "                <dd><code>app</code></dd>\n",
       "            </dl>\n",
       "        </div>\n",
       "        "
      ],
      "text/plain": [
       "<SparkContext master=local[4] appName=app>"
      ]
     },
     "execution_count": 14,
     "metadata": {},
     "output_type": "execute_result"
    }
   ],
   "source": [
    "sc"
   ]
  },
  {
   "cell_type": "code",
   "execution_count": 2,
   "metadata": {},
   "outputs": [],
   "source": [
    "import cartopy\n",
    "import cartopy.feature as cpf\n",
    "from matplotlib.pyplot import figure, show\n",
    "\n",
    "ax = figure(figsize=(14,6)).gca(projection=cartopy.crs.PlateCarree())\n",
    "\n",
    "ax.add_feature(cpf.LAND)\n",
    "#ax.add_feature(cpf.OCEAN)\n",
    "#ax.add_feature(cpf.COASTLINE)\n",
    "ax.add_feature(cpf.BORDERS, linestyle='-')\n",
    "#ax.add_feature(cpf.LAKES, alpha=0.5)\n",
    "#ax.add_feature(cpf.RIVERS)\n",
    "\n",
    "ax.set_extent([5.9962, 10.5226, 45.8389, 47.8229]) #45.8389, 47.8229, 5.9962, 10.5226\n",
    "\n",
    "plt.plot([ny_lon, delhi_lon], [ny_lat, delhi_lat],\n",
    "         color='blue', linewidth=2, marker='o',\n",
    "         transform=cartopy.crs.Geodetic(),\n",
    "         )\n",
    "\n",
    "show()"
   ]
  }
 ],
 "metadata": {
  "kernelspec": {
   "display_name": "Python 3",
   "language": "python",
   "name": "python3"
  },
  "language_info": {
   "codemirror_mode": {
    "name": "ipython",
    "version": 3
   },
   "file_extension": ".py",
   "mimetype": "text/x-python",
   "name": "python",
   "nbconvert_exporter": "python",
   "pygments_lexer": "ipython3",
   "version": "3.7.7"
  },
  "toc": {
   "base_numbering": 1,
   "nav_menu": {},
   "number_sections": true,
   "sideBar": true,
   "skip_h1_title": false,
   "title_cell": "Table of Contents",
   "title_sidebar": "Contents",
   "toc_cell": false,
   "toc_position": {},
   "toc_section_display": true,
   "toc_window_display": false
  }
 },
 "nbformat": 4,
 "nbformat_minor": 4
}
