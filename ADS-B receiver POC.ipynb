{
 "cells": [
  {
   "cell_type": "code",
   "execution_count": 50,
   "metadata": {},
   "outputs": [
    {
     "data": {
      "text/plain": [
       "'3.6.6 |Anaconda custom (64-bit)| (default, Jun 28 2018, 11:27:44) [MSC v.1900 64 bit (AMD64)]'"
      ]
     },
     "execution_count": 50,
     "metadata": {},
     "output_type": "execute_result"
    }
   ],
   "source": [
    "import sys\n",
    "import socket\n",
    "import json\n",
    "import pandas as pd\n",
    "from pandas.io.json import json_normalize\n",
    "import time\n",
    "sys.version"
   ]
  },
  {
   "cell_type": "code",
   "execution_count": 95,
   "metadata": {},
   "outputs": [],
   "source": [
    "def recvall(sock):\n",
    "    BUFF_SIZE = 4096\n",
    "    data = b''\n",
    "    while True:\n",
    "        part = sock.recv(BUFF_SIZE)\n",
    "        data += part\n",
    "        if ']' in part.decode(\"utf-8\"):\n",
    "            break   \n",
    "    return data"
   ]
  },
  {
   "cell_type": "code",
   "execution_count": 175,
   "metadata": {},
   "outputs": [
    {
     "name": "stdout",
     "output_type": "stream",
     "text": [
      "        Call        Lat       Long\n",
      "2   00000000  44.570450  26.078278\n",
      "4   00000000  44.571918  26.109125\n",
      "5   00000000  44.500854  26.067225\n",
      "7   00000000  44.574978  26.096985\n",
      "10  00000000  44.566574  26.116261\n"
     ]
    }
   ],
   "source": [
    "#spark streamming\n",
    "i = 1\n",
    "while i < 2:\n",
    "    s = socket.socket(socket.AF_INET, socket.SOCK_STREAM)\n",
    "    s.connect(('pub-vrs.adsbexchange.com', 32005))\n",
    "    data = recvall(s)\n",
    "    df = json_normalize(json.loads(data.decode(\"utf-8\").split('\\\"acList\\\":')[1].split(']')[0] + ']'))\n",
    "    print(df[~df.Call.isna()][['Call','Lat','Long']].head())\n",
    "    time.sleep(10)\n",
    "    s.close()\n",
    "    #print('Received', repr(data))\n",
    "    i += 1\n"
   ]
  },
  {
   "cell_type": "code",
   "execution_count": 1,
   "metadata": {
    "collapsed": true
   },
   "outputs": [
    {
     "data": {
      "text/html": [
       "<script>requirejs.config({paths: { 'plotly': ['https://cdn.plot.ly/plotly-latest.min']},});if(!window.Plotly) {{require(['plotly'],function(plotly) {window.Plotly=plotly;});}}</script>"
      ],
      "text/vnd.plotly.v1+html": [
       "<script>requirejs.config({paths: { 'plotly': ['https://cdn.plot.ly/plotly-latest.min']},});if(!window.Plotly) {{require(['plotly'],function(plotly) {window.Plotly=plotly;});}}</script>"
      ]
     },
     "metadata": {},
     "output_type": "display_data"
    },
    {
     "ename": "NameError",
     "evalue": "name 'df' is not defined",
     "output_type": "error",
     "traceback": [
      "\u001b[1;31m---------------------------------------------------------------------------\u001b[0m",
      "\u001b[1;31mNameError\u001b[0m                                 Traceback (most recent call last)",
      "\u001b[1;32m<ipython-input-1-fec5e21475f5>\u001b[0m in \u001b[0;36m<module>\u001b[1;34m()\u001b[0m\n\u001b[0;32m      6\u001b[0m         \u001b[0mtype\u001b[0m \u001b[1;33m=\u001b[0m \u001b[1;34m'scattergeo'\u001b[0m\u001b[1;33m,\u001b[0m\u001b[1;33m\u001b[0m\u001b[0m\n\u001b[0;32m      7\u001b[0m         \u001b[1;31m#locationmode = 'USA-states',\u001b[0m\u001b[1;33m\u001b[0m\u001b[1;33m\u001b[0m\u001b[0m\n\u001b[1;32m----> 8\u001b[1;33m         \u001b[0mlon\u001b[0m \u001b[1;33m=\u001b[0m \u001b[0mdf\u001b[0m\u001b[1;33m[\u001b[0m\u001b[1;33m~\u001b[0m\u001b[0mdf\u001b[0m\u001b[1;33m.\u001b[0m\u001b[0mCall\u001b[0m\u001b[1;33m.\u001b[0m\u001b[0misna\u001b[0m\u001b[1;33m(\u001b[0m\u001b[1;33m)\u001b[0m\u001b[1;33m]\u001b[0m\u001b[1;33m[\u001b[0m\u001b[1;34m'Long'\u001b[0m\u001b[1;33m]\u001b[0m\u001b[1;33m,\u001b[0m\u001b[1;33m\u001b[0m\u001b[0m\n\u001b[0m\u001b[0;32m      9\u001b[0m         \u001b[0mlat\u001b[0m \u001b[1;33m=\u001b[0m \u001b[0mdf\u001b[0m\u001b[1;33m[\u001b[0m\u001b[1;33m~\u001b[0m\u001b[0mdf\u001b[0m\u001b[1;33m.\u001b[0m\u001b[0mCall\u001b[0m\u001b[1;33m.\u001b[0m\u001b[0misna\u001b[0m\u001b[1;33m(\u001b[0m\u001b[1;33m)\u001b[0m\u001b[1;33m]\u001b[0m\u001b[1;33m[\u001b[0m\u001b[1;34m'Lat'\u001b[0m\u001b[1;33m]\u001b[0m\u001b[1;33m,\u001b[0m\u001b[1;33m\u001b[0m\u001b[0m\n\u001b[0;32m     10\u001b[0m         \u001b[0mtext\u001b[0m \u001b[1;33m=\u001b[0m \u001b[0mdf\u001b[0m\u001b[1;33m[\u001b[0m\u001b[1;33m~\u001b[0m\u001b[0mdf\u001b[0m\u001b[1;33m.\u001b[0m\u001b[0mCall\u001b[0m\u001b[1;33m.\u001b[0m\u001b[0misna\u001b[0m\u001b[1;33m(\u001b[0m\u001b[1;33m)\u001b[0m\u001b[1;33m]\u001b[0m\u001b[1;33m[\u001b[0m\u001b[1;34m'Call'\u001b[0m\u001b[1;33m]\u001b[0m\u001b[1;33m,\u001b[0m\u001b[1;33m\u001b[0m\u001b[0m\n",
      "\u001b[1;31mNameError\u001b[0m: name 'df' is not defined"
     ]
    }
   ],
   "source": [
    "import plotly.offline as pyo\n",
    "import plotly.graph_objs as go\n",
    "pyo.init_notebook_mode(connected=True)\n",
    "\n",
    "data = [ dict(\n",
    "        type = 'scattergeo',\n",
    "        #locationmode = 'USA-states',\n",
    "        lon = df[~df.Call.isna()]['Long'],\n",
    "        lat = df[~df.Call.isna()]['Lat'],\n",
    "        text = df[~df.Call.isna()]['Call'],\n",
    "        mode = 'markers',\n",
    "        marker = dict(\n",
    "            size = 8,\n",
    "            opacity = 0.8,\n",
    "            reversescale = True,\n",
    "            autocolorscale = False,\n",
    "            symbol = 'square',\n",
    "            line = dict(\n",
    "                width=1,\n",
    "                color='rgba(102, 102, 102)'\n",
    "            )\n",
    "            #colorscale = scl,\n",
    "            #cmin = 0,\n",
    "            #color = df['cnt'],\n",
    "            #cmax = df['cnt'].max(),\n",
    "            #colorbar=dict(\n",
    "            #    title=\"Incoming flightsFebruary 2011\"\n",
    "            #)\n",
    "        ))]\n",
    "\n",
    "layout = dict(\n",
    "        #title = 'US airspace ADS traffic (Hover for aircraft names)',\n",
    "        colorbar = True,\n",
    "        geo = dict(\n",
    "            scope='world',\n",
    "            landcolor = \"rgb(212, 212, 212)\",\n",
    "            subunitcolor = \"rgb(255, 255, 255)\",\n",
    "            countrycolor = \"rgb(255, 255, 255)\",\n",
    "            showlakes = True,\n",
    "            lakecolor = \"rgb(255, 255, 255)\",\n",
    "            showsubunits = True,\n",
    "            showcountries = True,\n",
    "            resolution = 50,\n",
    "            projection=dict( type='eckert4'),\n",
    "            showland = True,\n",
    "            autosize = True,\n",
    "            margin=go.Margin(\n",
    "                        l=50,\n",
    "                        r=50,\n",
    "                        b=0,\n",
    "                        t=0,\n",
    "                        pad=0,\n",
    "                        autoexpand = True),\n",
    "            #countrywidth = 0.5,\n",
    "            #subunitwidth = 0.5\n",
    "        ),\n",
    "    )\n",
    "\n",
    "fig = dict( data=data, layout=layout )\n",
    "pyo.iplot( fig, validate=False, filename='d3-airports' )"
   ]
  },
  {
   "cell_type": "code",
   "execution_count": 22,
   "metadata": {},
   "outputs": [],
   "source": [
    "import urllib.request, json \n",
    "with urllib.request.urlopen(\"https://opensky-network.org/api/states/all?lamin=45.8389&lomin=5.9962&lamax=47.8229&lomax=10.5226\") as url:\n",
    "    data = json.loads(url.read().decode())"
   ]
  },
  {
   "cell_type": "code",
   "execution_count": 58,
   "metadata": {},
   "outputs": [],
   "source": [
    "from opensky_api import OpenSkyApi\n",
    "\n",
    "api = OpenSkyApi()\n",
    "states = api.get_states(bbox=(45.8389, 47.8229, 5.9962, 10.5226))\n",
    "data = json.dumps([s.__dict__ for s in states.states])"
   ]
  },
  {
   "cell_type": "code",
   "execution_count": 59,
   "metadata": {},
   "outputs": [
    {
     "data": {
      "text/plain": [
       "b'[{\"icao24\": \"4b1801\", \"callsign\": \"SWR247C \", \"origin_country\": \"Switzerland\", \"time_position\": 1534676179, \"last_contact\": 1534676179, \"longitude\": 7.7179, \"latitude\": 47.1443, \"geo_altitude\": 5669.28, \"on_ground\": false, \"velocity\": 202.85, \"heading\": 239.86, \"vertical_rate\": 8.45, \"sensors\": null, \"baro_altitude\": 6019.8, \"squawk\": \"3021\", \"spi\": false, \"position_source\": 0}, {\"icao24\": \"4b1884\", \"callsign\": \"SWR242  \", \"origin_country\": \"Switzerland\", \"time_position\": 1534676179, \"last_contact\": 1534676179, \"longitude\": 9.9958, \"latitude\": 47.4537, \"geo_altitude\": 5791.2, \"on_ground\": false, \"velocity\": 216.27, \"heading\": 100, \"vertical_rate\": 7.48, \"sensors\": null, \"baro_altitude\": 6080.76, \"squawk\": \"3012\", \"spi\": false, \"position_source\": 0}, {\"icao24\": \"3c5ef5\", \"callsign\": \"EWG4TX  \", \"origin_country\": \"Germany\", \"time_position\": 1534676179, \"last_contact\": 1534676179, \"longitude\": 7.4927, \"latitude\": 46.2538, \"geo_altitude\": 9867.9, \"on_ground\": false, \"velocity\": 228.36, \"heading\": 28.53, \"vertical_rate\": -5.2, \"sensors\": null, \"baro_altitude\": 10370.82, \"squawk\": \"5377\", \"spi\": false, \"position_source\": 0}, {\"icao24\": \"300000\", \"callsign\": \"UAF2018 \", \"origin_country\": \"Italy\", \"time_position\": 1534676179, \"last_contact\": 1534676179, \"longitude\": 6.351, \"latitude\": 46.334, \"geo_altitude\": 838.2, \"on_ground\": false, \"velocity\": 74.24, \"heading\": 14.04, \"vertical_rate\": -0.33, \"sensors\": null, \"baro_altitude\": 982.98, \"squawk\": \"7000\", \"spi\": false, \"position_source\": 0}, {\"icao24\": \"4b16bb\", \"callsign\": \"SWR91J  \", \"origin_country\": \"Switzerland\", \"time_position\": 1534676180, \"last_contact\": 1534676180, \"longitude\": 8.5701, \"latitude\": 47.4567, \"geo_altitude\": null, \"on_ground\": true, \"velocity\": 1.29, \"heading\": 317, \"vertical_rate\": null, \"sensors\": null, \"baro_altitude\": null, \"squawk\": \"3056\", \"spi\": false, \"position_source\": 0}, {\"icao24\": \"4b5da4\", \"callsign\": \"TE23    \", \"origin_country\": \"Switzerland\", \"time_position\": 1534676161, \"last_contact\": 1534676165, \"longitude\": 8.5563, \"latitude\": 47.4607, \"geo_altitude\": null, \"on_ground\": true, \"velocity\": 0, \"heading\": 45, \"vertical_rate\": null, \"sensors\": null, \"baro_altitude\": null, \"squawk\": null, \"spi\": false, \"position_source\": 0}, {\"icao24\": \"4b5da5\", \"callsign\": \"TE24    \", \"origin_country\": \"Switzerland\", \"time_position\": 1534676107, \"last_contact\": 1534676107, \"longitude\": 8.5591, \"latitude\": 47.4495, \"geo_altitude\": null, \"on_ground\": true, \"velocity\": 2.57, \"heading\": 140, \"vertical_rate\": null, \"sensors\": null, \"baro_altitude\": null, \"squawk\": \"2357\", \"spi\": false, \"position_source\": 0}, {\"icao24\": \"4b5da8\", \"callsign\": \"ATL778  \", \"origin_country\": \"Switzerland\", \"time_position\": 1534676022, \"last_contact\": 1534676080, \"longitude\": 8.556, \"latitude\": 47.4609, \"geo_altitude\": null, \"on_ground\": true, \"velocity\": 3.34, \"heading\": 151, \"vertical_rate\": null, \"sensors\": null, \"baro_altitude\": null, \"squawk\": \"5561\", \"spi\": false, \"position_source\": 0}, {\"icao24\": \"4690f6\", \"callsign\": \"AEE3BR  \", \"origin_country\": \"Greece\", \"time_position\": 1534676180, \"last_contact\": 1534676180, \"longitude\": 8.6401, \"latitude\": 47.3206, \"geo_altitude\": 11277.6, \"on_ground\": false, \"velocity\": 224.7, \"heading\": 130.73, \"vertical_rate\": -0.33, \"sensors\": null, \"baro_altitude\": 11719.56, \"squawk\": \"0104\", \"spi\": false, \"position_source\": 0}, {\"icao24\": \"4cc279\", \"callsign\": \"ICE568  \", \"origin_country\": \"Iceland\", \"time_position\": 1534676179, \"last_contact\": 1534676179, \"longitude\": 8.5534, \"latitude\": 47.4561, \"geo_altitude\": null, \"on_ground\": true, \"velocity\": 7.72, \"heading\": 163, \"vertical_rate\": null, \"sensors\": null, \"baro_altitude\": null, \"squawk\": \"2210\", \"spi\": false, \"position_source\": 0}, {\"icao24\": \"440380\", \"callsign\": \"EZY51BC \", \"origin_country\": \"Austria\", \"time_position\": 1534676180, \"last_contact\": 1534676180, \"longitude\": 6.2046, \"latitude\": 46.7154, \"geo_altitude\": 11201.4, \"on_ground\": false, \"velocity\": 231.86, \"heading\": 318.78, \"vertical_rate\": 3.58, \"sensors\": null, \"baro_altitude\": 11681.46, \"squawk\": \"5722\", \"spi\": false, \"position_source\": 0}, {\"icao24\": \"4401d4\", \"callsign\": \"EZY59NZ \", \"origin_country\": \"Austria\", \"time_position\": 1534676130, \"last_contact\": 1534676135, \"longitude\": 8.5616, \"latitude\": 47.4485, \"geo_altitude\": 350.52, \"on_ground\": true, \"velocity\": 0.77, \"heading\": 64, \"vertical_rate\": null, \"sensors\": null, \"baro_altitude\": null, \"squawk\": \"1000\", \"spi\": false, \"position_source\": 0}, {\"icao24\": \"73806e\", \"callsign\": \"ELY348  \", \"origin_country\": \"Israel\", \"time_position\": 1534676179, \"last_contact\": 1534676179, \"longitude\": 8.5642, \"latitude\": 47.4589, \"geo_altitude\": null, \"on_ground\": true, \"velocity\": 5.14, \"heading\": 120, \"vertical_rate\": null, \"sensors\": null, \"baro_altitude\": null, \"squawk\": \"3024\", \"spi\": false, \"position_source\": 0}, {\"icao24\": \"4b5d9d\", \"callsign\": \"\", \"origin_country\": \"Switzerland\", \"time_position\": 1534676134, \"last_contact\": 1534676134, \"longitude\": 8.5585, \"latitude\": 47.4546, \"geo_altitude\": null, \"on_ground\": true, \"velocity\": 4.12, \"heading\": 98, \"vertical_rate\": null, \"sensors\": null, \"baro_altitude\": null, \"squawk\": null, \"spi\": false, \"position_source\": 0}, {\"icao24\": \"4b5d9e\", \"callsign\": \"TE09    \", \"origin_country\": \"Switzerland\", \"time_position\": 1534676161, \"last_contact\": 1534676161, \"longitude\": 8.5534, \"latitude\": 47.4609, \"geo_altitude\": null, \"on_ground\": true, \"velocity\": 1.03, \"heading\": 180, \"vertical_rate\": null, \"sensors\": null, \"baro_altitude\": null, \"squawk\": null, \"spi\": false, \"position_source\": 0}, {\"icao24\": \"4b5169\", \"callsign\": \"HB3266  \", \"origin_country\": \"Switzerland\", \"time_position\": 1534676179, \"last_contact\": 1534676179, \"longitude\": 8.435, \"latitude\": 46.1666, \"geo_altitude\": 2316.48, \"on_ground\": false, \"velocity\": 37.81, \"heading\": 326.09, \"vertical_rate\": -0.33, \"sensors\": null, \"baro_altitude\": 2308.86, \"squawk\": \"7000\", \"spi\": false, \"position_source\": 0}, {\"icao24\": \"4b5d9b\", \"callsign\": \"ATL781  \", \"origin_country\": \"Switzerland\", \"time_position\": 1534676105, \"last_contact\": 1534676105, \"longitude\": 8.5575, \"latitude\": 47.4608, \"geo_altitude\": null, \"on_ground\": true, \"velocity\": 3.6, \"heading\": 90, \"vertical_rate\": null, \"sensors\": null, \"baro_altitude\": null, \"squawk\": null, \"spi\": false, \"position_source\": 0}, {\"icao24\": \"4b1616\", \"callsign\": \"SWR73G  \", \"origin_country\": \"Switzerland\", \"time_position\": 1534676180, \"last_contact\": 1534676180, \"longitude\": 7.4375, \"latitude\": 47.5506, \"geo_altitude\": 6492.24, \"on_ground\": false, \"velocity\": 206.29, \"heading\": 328.25, \"vertical_rate\": 9.75, \"sensors\": null, \"baro_altitude\": 6842.76, \"squawk\": \"1000\", \"spi\": false, \"position_source\": 0}, {\"icao24\": \"4b1618\", \"callsign\": \"SWR102X \", \"origin_country\": \"Switzerland\", \"time_position\": 1534676179, \"last_contact\": 1534676179, \"longitude\": 8.5588, \"latitude\": 47.455, \"geo_altitude\": null, \"on_ground\": true, \"velocity\": 3.09, \"heading\": 95, \"vertical_rate\": null, \"sensors\": null, \"baro_altitude\": null, \"squawk\": \"3035\", \"spi\": false, \"position_source\": 0}, {\"icao24\": \"4b1614\", \"callsign\": \"\", \"origin_country\": \"Switzerland\", \"time_position\": 1534675989, \"last_contact\": 1534676059, \"longitude\": 8.5591, \"latitude\": 47.4525, \"geo_altitude\": null, \"on_ground\": true, \"velocity\": 1.8, \"heading\": 278, \"vertical_rate\": null, \"sensors\": null, \"baro_altitude\": null, \"squawk\": \"2352\", \"spi\": false, \"position_source\": 0}, {\"icao24\": \"4b1615\", \"callsign\": \"SWR173J \", \"origin_country\": \"Switzerland\", \"time_position\": 1534676179, \"last_contact\": 1534676180, \"longitude\": 8.569, \"latitude\": 47.4556, \"geo_altitude\": 358.14, \"on_ground\": true, \"velocity\": 2.83, \"heading\": 95, \"vertical_rate\": null, \"sensors\": null, \"baro_altitude\": null, \"squawk\": \"1000\", \"spi\": false, \"position_source\": 0}, {\"icao24\": \"4b161b\", \"callsign\": \"SWR112W \", \"origin_country\": \"Switzerland\", \"time_position\": 1534676179, \"last_contact\": 1534676179, \"longitude\": 8.456, \"latitude\": 47.4487, \"geo_altitude\": 1386.84, \"on_ground\": false, \"velocity\": 91.34, \"heading\": 212.35, \"vertical_rate\": 6.83, \"sensors\": null, \"baro_altitude\": 1508.76, \"squawk\": \"1000\", \"spi\": false, \"position_source\": 0}, {\"icao24\": \"4b1693\", \"callsign\": \"SWR131C \", \"origin_country\": \"Switzerland\", \"time_position\": 1534676180, \"last_contact\": 1534676180, \"longitude\": 8.55, \"latitude\": 47.4581, \"geo_altitude\": 350.52, \"on_ground\": false, \"velocity\": 81.19, \"heading\": 275.82, \"vertical_rate\": 0.98, \"sensors\": null, \"baro_altitude\": 426.72, \"squawk\": \"3055\", \"spi\": false, \"position_source\": 0}, {\"icao24\": \"4b168e\", \"callsign\": \"SWR204K \", \"origin_country\": \"Switzerland\", \"time_position\": 1534676179, \"last_contact\": 1534676180, \"longitude\": 6.5424, \"latitude\": 46.5695, \"geo_altitude\": 7810.5, \"on_ground\": false, \"velocity\": 242.63, \"heading\": 238.7, \"vertical_rate\": 5.2, \"sensors\": null, \"baro_altitude\": 8221.98, \"squawk\": \"3073\", \"spi\": false, \"position_source\": 0}, {\"icao24\": \"4006d6\", \"callsign\": \"CLJ7714 \", \"origin_country\": \"United Kingdom\", \"time_position\": 1534676179, \"last_contact\": 1534676180, \"longitude\": 8.5631, \"latitude\": 46.8543, \"geo_altitude\": 9745.98, \"on_ground\": false, \"velocity\": 244.82, \"heading\": 315.43, \"vertical_rate\": 0.33, \"sensors\": null, \"baro_altitude\": 9745.98, \"squawk\": \"2747\", \"spi\": false, \"position_source\": 0}, {\"icao24\": \"4891a6\", \"callsign\": \"ENT792  \", \"origin_country\": \"Poland\", \"time_position\": 1534676180, \"last_contact\": 1534676180, \"longitude\": 10.4867, \"latitude\": 46.8432, \"geo_altitude\": 11887.2, \"on_ground\": false, \"velocity\": 214.11, \"heading\": 75.53, \"vertical_rate\": 0.33, \"sensors\": null, \"baro_altitude\": 12344.4, \"squawk\": \"1000\", \"spi\": false, \"position_source\": 0}, {\"icao24\": \"4b5d6c\", \"callsign\": \"FLORI101\", \"origin_country\": \"Switzerland\", \"time_position\": 1534673775, \"last_contact\": 1534676112, \"longitude\": 8.5528, \"latitude\": 47.4462, \"geo_altitude\": null, \"on_ground\": false, \"velocity\": 0, \"heading\": 92, \"vertical_rate\": null, \"sensors\": null, \"baro_altitude\": null, \"squawk\": \"6475\", \"spi\": false, \"position_source\": 0}, {\"icao24\": \"4951b7\", \"callsign\": \"TAP932N \", \"origin_country\": \"Portugal\", \"time_position\": 1534676177, \"last_contact\": 1534676178, \"longitude\": 8.5594, \"latitude\": 47.454, \"geo_altitude\": 358.14, \"on_ground\": true, \"velocity\": 0.32, \"heading\": 185, \"vertical_rate\": null, \"sensors\": null, \"baro_altitude\": null, \"squawk\": \"1000\", \"spi\": false, \"position_source\": 0}, {\"icao24\": \"800666\", \"callsign\": \"JAI123  \", \"origin_country\": \"India\", \"time_position\": 1534676179, \"last_contact\": 1534676180, \"longitude\": 8.2508, \"latitude\": 47.8049, \"geo_altitude\": 10058.4, \"on_ground\": false, \"velocity\": 240.98, \"heading\": 105.22, \"vertical_rate\": 0, \"sensors\": null, \"baro_altitude\": 10553.7, \"squawk\": \"0651\", \"spi\": false, \"position_source\": 0}, {\"icao24\": \"4844b8\", \"callsign\": \"P4LIG   \", \"origin_country\": \"Kingdom of the Netherlands\", \"time_position\": 1534676179, \"last_contact\": 1534676179, \"longitude\": 7.9559, \"latitude\": 47.7489, \"geo_altitude\": 4183.38, \"on_ground\": false, \"velocity\": 187.2, \"heading\": 69.57, \"vertical_rate\": 10.73, \"sensors\": null, \"baro_altitude\": 4389.12, \"squawk\": \"6703\", \"spi\": false, \"position_source\": 0}, {\"icao24\": \"4b288c\", \"callsign\": \"HBPJG   \", \"origin_country\": \"Switzerland\", \"time_position\": 1534676179, \"last_contact\": 1534676179, \"longitude\": 8.0883, \"latitude\": 47.2147, \"geo_altitude\": 3558.54, \"on_ground\": false, \"velocity\": 105.1, \"heading\": 3.09, \"vertical_rate\": -5.53, \"sensors\": null, \"baro_altitude\": 3787.14, \"squawk\": \"1000\", \"spi\": false, \"position_source\": 0}, {\"icao24\": \"a03c7e\", \"callsign\": \"N114QS  \", \"origin_country\": \"United States\", \"time_position\": 1534676165, \"last_contact\": 1534676172, \"longitude\": 8.5676, \"latitude\": 47.4553, \"geo_altitude\": 350.52, \"on_ground\": true, \"velocity\": 0, \"heading\": 323, \"vertical_rate\": null, \"sensors\": null, \"baro_altitude\": null, \"squawk\": \"1000\", \"spi\": false, \"position_source\": 0}, {\"icao24\": \"4b5c6d\", \"callsign\": \"ZEBRA4  \", \"origin_country\": \"Switzerland\", \"time_position\": 1534676172, \"last_contact\": 1534676172, \"longitude\": 8.5512, \"latitude\": 47.4637, \"geo_altitude\": null, \"on_ground\": true, \"velocity\": 6.94, \"heading\": 109, \"vertical_rate\": null, \"sensors\": null, \"baro_altitude\": null, \"squawk\": null, \"spi\": false, \"position_source\": 0}, {\"icao24\": \"3451d5\", \"callsign\": \"VLG7580 \", \"origin_country\": \"Spain\", \"time_position\": 1534676179, \"last_contact\": 1534676179, \"longitude\": 8.4245, \"latitude\": 47.5635, \"geo_altitude\": 1013.46, \"on_ground\": false, \"velocity\": 95.75, \"heading\": 137.4, \"vertical_rate\": -6.5, \"sensors\": null, \"baro_altitude\": 1181.1, \"squawk\": \"2360\", \"spi\": false, \"position_source\": 0}, {\"icao24\": \"3c6dd4\", \"callsign\": \"EWG90C  \", \"origin_country\": \"Germany\", \"time_position\": 1534676179, \"last_contact\": 1534676179, \"longitude\": 6.3332, \"latitude\": 46.0534, \"geo_altitude\": 11894.82, \"on_ground\": false, \"velocity\": 234.38, \"heading\": 204.37, \"vertical_rate\": -0.33, \"sensors\": null, \"baro_altitude\": 12313.92, \"squawk\": \"2517\", \"spi\": false, \"position_source\": 0}, {\"icao24\": \"3c0ca0\", \"callsign\": \"TUI56K  \", \"origin_country\": \"Germany\", \"time_position\": 1534676179, \"last_contact\": 1534676179, \"longitude\": 8.7292, \"latitude\": 47.657, \"geo_altitude\": 5951.22, \"on_ground\": false, \"velocity\": 196.92, \"heading\": 6.9, \"vertical_rate\": -11.38, \"sensors\": null, \"baro_altitude\": 6256.02, \"squawk\": \"5667\", \"spi\": false, \"position_source\": 0}, {\"icao24\": \"3c0ca5\", \"callsign\": \"TUI3WP  \", \"origin_country\": \"Germany\", \"time_position\": 1534676042, \"last_contact\": 1534676049, \"longitude\": 7.5288, \"latitude\": 47.5975, \"geo_altitude\": 190.5, \"on_ground\": true, \"velocity\": 0, \"heading\": 106, \"vertical_rate\": null, \"sensors\": null, \"baro_altitude\": null, \"squawk\": \"1000\", \"spi\": false, \"position_source\": 0}, {\"icao24\": \"896448\", \"callsign\": \"ROJ07   \", \"origin_country\": \"United Arab Emirates\", \"time_position\": 1534676179, \"last_contact\": 1534676179, \"longitude\": 8.4774, \"latitude\": 47.5251, \"geo_altitude\": 693.42, \"on_ground\": false, \"velocity\": 81.19, \"heading\": 137.31, \"vertical_rate\": -4.55, \"sensors\": null, \"baro_altitude\": 838.2, \"squawk\": \"1000\", \"spi\": false, \"position_source\": 0}, {\"icao24\": \"4841d6\", \"callsign\": \"TRA5007 \", \"origin_country\": \"Kingdom of the Netherlands\", \"time_position\": 1534676179, \"last_contact\": 1534676179, \"longitude\": 7.9793, \"latitude\": 47.7318, \"geo_altitude\": 11887.2, \"on_ground\": false, \"velocity\": 219.73, \"heading\": 123.54, \"vertical_rate\": 0, \"sensors\": null, \"baro_altitude\": 12374.88, \"squawk\": \"0176\", \"spi\": false, \"position_source\": 0}, {\"icao24\": \"c06c58\", \"callsign\": \"TSC443  \", \"origin_country\": \"Canada\", \"time_position\": 1534676179, \"last_contact\": 1534676179, \"longitude\": 9.2839, \"latitude\": 45.8914, \"geo_altitude\": 9753.6, \"on_ground\": false, \"velocity\": 248.36, \"heading\": 282.68, \"vertical_rate\": 0, \"sensors\": null, \"baro_altitude\": 10142.22, \"squawk\": \"0251\", \"spi\": false, \"position_source\": 0}, {\"icao24\": \"4ca6d3\", \"callsign\": \"RYR60NE \", \"origin_country\": \"Ireland\", \"time_position\": 1534676179, \"last_contact\": 1534676179, \"longitude\": 6.2858, \"latitude\": 46.531, \"geo_altitude\": 11582.4, \"on_ground\": false, \"velocity\": 222.1, \"heading\": 356.68, \"vertical_rate\": 0, \"sensors\": null, \"baro_altitude\": 12092.94, \"squawk\": \"4031\", \"spi\": false, \"position_source\": 0}, {\"icao24\": \"3c49cc\", \"callsign\": \"EWG2VR  \", \"origin_country\": \"Germany\", \"time_position\": 1534676180, \"last_contact\": 1534676180, \"longitude\": 6.6281, \"latitude\": 47.5276, \"geo_altitude\": 11894.82, \"on_ground\": false, \"velocity\": 237.99, \"heading\": 192.86, \"vertical_rate\": 0, \"sensors\": null, \"baro_altitude\": 12367.26, \"squawk\": \"1120\", \"spi\": false, \"position_source\": 0}, {\"icao24\": \"4ca804\", \"callsign\": \"RYR21LP \", \"origin_country\": \"Ireland\", \"time_position\": 1534676179, \"last_contact\": 1534676180, \"longitude\": 8.552, \"latitude\": 46.9009, \"geo_altitude\": 11277.6, \"on_ground\": false, \"velocity\": 229.53, \"heading\": 174.34, \"vertical_rate\": 0, \"sensors\": null, \"baro_altitude\": 11734.8, \"squawk\": \"0752\", \"spi\": false, \"position_source\": 0}, {\"icao24\": \"600853\", \"callsign\": \"AHY074  \", \"origin_country\": \"Azerbaijan\", \"time_position\": 1534676179, \"last_contact\": 1534676179, \"longitude\": 8.5197, \"latitude\": 47.7673, \"geo_altitude\": 10668, \"on_ground\": false, \"velocity\": 225.68, \"heading\": 98.39, \"vertical_rate\": 0, \"sensors\": null, \"baro_altitude\": 11148.06, \"squawk\": \"0642\", \"spi\": false, \"position_source\": 0}, {\"icao24\": \"a700bc\", \"callsign\": \"N550PM  \", \"origin_country\": \"United States\", \"time_position\": 1534676179, \"last_contact\": 1534676179, \"longitude\": 8.5598, \"latitude\": 47.4622, \"geo_altitude\": null, \"on_ground\": true, \"velocity\": 9.26, \"heading\": 137, \"vertical_rate\": null, \"sensors\": null, \"baro_altitude\": null, \"squawk\": \"1000\", \"spi\": false, \"position_source\": 0}, {\"icao24\": \"4ac958\", \"callsign\": \"SAS4719 \", \"origin_country\": \"Sweden\", \"time_position\": 1534676179, \"last_contact\": 1534676179, \"longitude\": 8.6818, \"latitude\": 46.2147, \"geo_altitude\": 5844.54, \"on_ground\": false, \"velocity\": 201.72, \"heading\": 167.63, \"vertical_rate\": -8.13, \"sensors\": null, \"baro_altitude\": 6141.72, \"squawk\": \"0742\", \"spi\": false, \"position_source\": 0}, {\"icao24\": \"3c48f1\", \"callsign\": \"EWG80M  \", \"origin_country\": \"Germany\", \"time_position\": 1534676180, \"last_contact\": 1534676180, \"longitude\": 10.3434, \"latitude\": 45.8588, \"geo_altitude\": 10736.58, \"on_ground\": false, \"velocity\": 226.85, \"heading\": 26.97, \"vertical_rate\": -5.2, \"sensors\": null, \"baro_altitude\": 11178.54, \"squawk\": \"1000\", \"spi\": false, \"position_source\": 0}, {\"icao24\": \"4ca67c\", \"callsign\": \"RYR20JY \", \"origin_country\": \"Ireland\", \"time_position\": 1534676179, \"last_contact\": 1534676179, \"longitude\": 6.333, \"latitude\": 47.0266, \"geo_altitude\": 11582.4, \"on_ground\": false, \"velocity\": 230.78, \"heading\": 327.66, \"vertical_rate\": 0, \"sensors\": null, \"baro_altitude\": 12054.84, \"squawk\": \"5701\", \"spi\": false, \"position_source\": 0}, {\"icao24\": \"491264\", \"callsign\": \"JME321D \", \"origin_country\": \"Portugal\", \"time_position\": 1534676179, \"last_contact\": 1534676180, \"longitude\": 7.1671, \"latitude\": 47.4193, \"geo_altitude\": 12192, \"on_ground\": false, \"velocity\": 256.24, \"heading\": 301.87, \"vertical_rate\": 0, \"sensors\": null, \"baro_altitude\": 12702.54, \"squawk\": \"2772\", \"spi\": false, \"position_source\": 0}, {\"icao24\": \"3c49b1\", \"callsign\": \"EWG7FP  \", \"origin_country\": \"Germany\", \"time_position\": 1534676179, \"last_contact\": 1534676179, \"longitude\": 6.1485, \"latitude\": 46.2235, \"geo_altitude\": 11277.6, \"on_ground\": false, \"velocity\": 236.65, \"heading\": 190.02, \"vertical_rate\": 0, \"sensors\": null, \"baro_altitude\": 11742.42, \"squawk\": \"1125\", \"spi\": false, \"position_source\": 0}, {\"icao24\": \"400cd0\", \"callsign\": \"\", \"origin_country\": \"United Kingdom\", \"time_position\": 1534675950, \"last_contact\": 1534675957, \"longitude\": 7.5304, \"latitude\": 47.5961, \"geo_altitude\": null, \"on_ground\": true, \"velocity\": 0, \"heading\": 334, \"vertical_rate\": null, \"sensors\": null, \"baro_altitude\": null, \"squawk\": null, \"spi\": false, \"position_source\": 0}, {\"icao24\": \"3950ca\", \"callsign\": \"AFR93FG \", \"origin_country\": \"France\", \"time_position\": 1534676179, \"last_contact\": 1534676179, \"longitude\": 7.4866, \"latitude\": 46.281, \"geo_altitude\": 10363.2, \"on_ground\": false, \"velocity\": 254.86, \"heading\": 294.44, \"vertical_rate\": 0, \"sensors\": null, \"baro_altitude\": 10805.16, \"squawk\": \"5726\", \"spi\": false, \"position_source\": 0}, {\"icao24\": \"3964e4\", \"callsign\": \"TVF4289 \", \"origin_country\": \"France\", \"time_position\": 1534676180, \"last_contact\": 1534676180, \"longitude\": 8.8139, \"latitude\": 45.8584, \"geo_altitude\": 11582.4, \"on_ground\": false, \"velocity\": 234.44, \"heading\": 292.17, \"vertical_rate\": 0, \"sensors\": null, \"baro_altitude\": 12016.74, \"squawk\": \"7351\", \"spi\": false, \"position_source\": 0}, {\"icao24\": \"485207\", \"callsign\": \"KLM95A  \", \"origin_country\": \"Kingdom of the Netherlands\", \"time_position\": 1534676179, \"last_contact\": 1534676180, \"longitude\": 6.6525, \"latitude\": 47.308, \"geo_altitude\": 8374.38, \"on_ground\": false, \"velocity\": 235.71, \"heading\": 181.63, \"vertical_rate\": -4.23, \"sensors\": null, \"baro_altitude\": 8816.34, \"squawk\": \"1000\", \"spi\": false, \"position_source\": 0}, {\"icao24\": \"4b1a22\", \"callsign\": \"EZS17AR \", \"origin_country\": \"Switzerland\", \"time_position\": 1534676169, \"last_contact\": 1534676169, \"longitude\": 7.5276, \"latitude\": 47.5946, \"geo_altitude\": null, \"on_ground\": true, \"velocity\": 7.46, \"heading\": 64, \"vertical_rate\": null, \"sensors\": null, \"baro_altitude\": null, \"squawk\": \"5543\", \"spi\": false, \"position_source\": 0}, {\"icao24\": \"4b1a38\", \"callsign\": \"EZS57FG \", \"origin_country\": \"Switzerland\", \"time_position\": 1534675937, \"last_contact\": 1534675941, \"longitude\": 6.012, \"latitude\": 46.172, \"geo_altitude\": 807.72, \"on_ground\": false, \"velocity\": 84.76, \"heading\": 45.74, \"vertical_rate\": -4.55, \"sensors\": null, \"baro_altitude\": 975.36, \"squawk\": \"1000\", \"spi\": false, \"position_source\": 0}, {\"icao24\": \"4ca2c0\", \"callsign\": \"RYR986A \", \"origin_country\": \"Ireland\", \"time_position\": 1534676180, \"last_contact\": 1534676180, \"longitude\": 8.8428, \"latitude\": 47.2815, \"geo_altitude\": 10668, \"on_ground\": false, \"velocity\": 224.25, \"heading\": 132.77, \"vertical_rate\": 0, \"sensors\": null, \"baro_altitude\": 11117.58, \"squawk\": \"6702\", \"spi\": false, \"position_source\": 0}, {\"icao24\": \"49d38c\", \"callsign\": \"TVS5RU  \", \"origin_country\": \"Czech Republic\", \"time_position\": 1534676180, \"last_contact\": 1534676180, \"longitude\": 6.8222, \"latitude\": 46.865, \"geo_altitude\": 10668, \"on_ground\": false, \"velocity\": 252.84, \"heading\": 231.19, \"vertical_rate\": 0, \"sensors\": null, \"baro_altitude\": 11109.96, \"squawk\": \"6631\", \"spi\": false, \"position_source\": 0}, {\"icao24\": \"a6cc86\", \"callsign\": \"N537XL  \", \"origin_country\": \"United States\", \"time_position\": 1534676179, \"last_contact\": 1534676179, \"longitude\": 7.9206, \"latitude\": 46.9077, \"geo_altitude\": 1463.04, \"on_ground\": false, \"velocity\": 53.03, \"heading\": 59.7, \"vertical_rate\": -0.33, \"sensors\": null, \"baro_altitude\": 1455.42, \"squawk\": \"4250\", \"spi\": false, \"position_source\": 0}, {\"icao24\": \"3ff53d\", \"callsign\": \"DMLMW   \", \"origin_country\": \"Germany\", \"time_position\": 1534676179, \"last_contact\": 1534676179, \"longitude\": 10.1899, \"latitude\": 47.759, \"geo_altitude\": 1234.44, \"on_ground\": false, \"velocity\": 37.81, \"heading\": 303.91, \"vertical_rate\": -0.33, \"sensors\": null, \"baro_altitude\": 1226.82, \"squawk\": \"7000\", \"spi\": false, \"position_source\": 0}, {\"icao24\": \"44a821\", \"callsign\": \"JAF1VG  \", \"origin_country\": \"Belgium\", \"time_position\": 1534676179, \"last_contact\": 1534676180, \"longitude\": 8.7614, \"latitude\": 46.3644, \"geo_altitude\": 11887.2, \"on_ground\": false, \"velocity\": 221.64, \"heading\": 133.21, \"vertical_rate\": 0, \"sensors\": null, \"baro_altitude\": 12382.5, \"squawk\": \"7465\", \"spi\": false, \"position_source\": 0}, {\"icao24\": \"44d071\", \"callsign\": \"BEL9TT  \", \"origin_country\": \"Belgium\", \"time_position\": 1534676179, \"last_contact\": 1534676180, \"longitude\": 9.9396, \"latitude\": 46.7106, \"geo_altitude\": 10888.98, \"on_ground\": false, \"velocity\": 219.79, \"heading\": 118.06, \"vertical_rate\": 3.58, \"sensors\": null, \"baro_altitude\": 11338.56, \"squawk\": \"0106\", \"spi\": false, \"position_source\": 0}, {\"icao24\": \"346042\", \"callsign\": \"CFG9KX  \", \"origin_country\": \"Spain\", \"time_position\": 1534676179, \"last_contact\": 1534676179, \"longitude\": 8.2175, \"latitude\": 47.2331, \"geo_altitude\": 10972.8, \"on_ground\": false, \"velocity\": 218.49, \"heading\": 17.97, \"vertical_rate\": 0, \"sensors\": null, \"baro_altitude\": 11445.24, \"squawk\": \"5533\", \"spi\": false, \"position_source\": 0}, {\"icao24\": \"3c09ea\", \"callsign\": \"GMI78ED \", \"origin_country\": \"Germany\", \"time_position\": 1534676179, \"last_contact\": 1534676179, \"longitude\": 9.8896, \"latitude\": 47.7186, \"geo_altitude\": 8534.4, \"on_ground\": false, \"velocity\": 238.23, \"heading\": 268.89, \"vertical_rate\": 0, \"sensors\": null, \"baro_altitude\": 8938.26, \"squawk\": \"1000\", \"spi\": false, \"position_source\": 0}, {\"icao24\": \"342592\", \"callsign\": \"VLG62MB \", \"origin_country\": \"Spain\", \"time_position\": 1534676179, \"last_contact\": 1534676179, \"longitude\": 6.0689, \"latitude\": 45.9082, \"geo_altitude\": 10652.76, \"on_ground\": false, \"velocity\": 230.66, \"heading\": 135.9, \"vertical_rate\": 0, \"sensors\": null, \"baro_altitude\": 11109.96, \"squawk\": \"5264\", \"spi\": false, \"position_source\": 0}, {\"icao24\": \"406b82\", \"callsign\": \"BAW881V \", \"origin_country\": \"United Kingdom\", \"time_position\": 1534676179, \"last_contact\": 1534676179, \"longitude\": 6.2973, \"latitude\": 47.714, \"geo_altitude\": 10355.58, \"on_ground\": false, \"velocity\": 242.03, \"heading\": 285.66, \"vertical_rate\": 0, \"sensors\": null, \"baro_altitude\": 10850.88, \"squawk\": \"5205\", \"spi\": false, \"position_source\": 0}, {\"icao24\": \"440666\", \"callsign\": \"AUA508  \", \"origin_country\": \"Austria\", \"time_position\": 1534676179, \"last_contact\": 1534676180, \"longitude\": 10.0355, \"latitude\": 45.9403, \"geo_altitude\": 7993.38, \"on_ground\": false, \"velocity\": 218.03, \"heading\": 78.29, \"vertical_rate\": 12.68, \"sensors\": null, \"baro_altitude\": 8374.38, \"squawk\": \"1000\", \"spi\": false, \"position_source\": 0}, {\"icao24\": \"47a1cf\", \"callsign\": \"NAX9473 \", \"origin_country\": \"Norway\", \"time_position\": 1534676179, \"last_contact\": 1534676179, \"longitude\": 8.3934, \"latitude\": 47.4032, \"geo_altitude\": 10965.18, \"on_ground\": false, \"velocity\": 221.69, \"heading\": 16.58, \"vertical_rate\": 0, \"sensors\": null, \"baro_altitude\": 11475.72, \"squawk\": \"1066\", \"spi\": false, \"position_source\": 0}, {\"icao24\": \"a0aed0\", \"callsign\": \"N143LA  \", \"origin_country\": \"United States\", \"time_position\": 1534676180, \"last_contact\": 1534676180, \"longitude\": 9.4292, \"latitude\": 47.1661, \"geo_altitude\": 7680.96, \"on_ground\": false, \"velocity\": 107.83, \"heading\": 350.94, \"vertical_rate\": 1.63, \"sensors\": null, \"baro_altitude\": 7673.34, \"squawk\": \"7511\", \"spi\": false, \"position_source\": 0}, {\"icao24\": \"4b19f2\", \"callsign\": \"SWR135G \", \"origin_country\": \"Switzerland\", \"time_position\": 1534676170, \"last_contact\": 1534676172, \"longitude\": 8.5575, \"latitude\": 47.4535, \"geo_altitude\": null, \"on_ground\": true, \"velocity\": 0, \"heading\": 5, \"vertical_rate\": null, \"sensors\": null, \"baro_altitude\": null, \"squawk\": null, \"spi\": false, \"position_source\": 0}, {\"icao24\": \"4b19f3\", \"callsign\": \"SWR45C  \", \"origin_country\": \"Switzerland\", \"time_position\": 1534676179, \"last_contact\": 1534676180, \"longitude\": 8.5586, \"latitude\": 47.4504, \"geo_altitude\": 358.14, \"on_ground\": true, \"velocity\": 0, \"heading\": 5, \"vertical_rate\": null, \"sensors\": null, \"baro_altitude\": null, \"squawk\": \"3061\", \"spi\": false, \"position_source\": 0}, {\"icao24\": \"4b19f4\", \"callsign\": \"SWR79N  \", \"origin_country\": \"Switzerland\", \"time_position\": 1534676179, \"last_contact\": 1534676179, \"longitude\": 8.5609, \"latitude\": 47.4562, \"geo_altitude\": null, \"on_ground\": true, \"velocity\": 3.34, \"heading\": 61, \"vertical_rate\": null, \"sensors\": null, \"baro_altitude\": null, \"squawk\": \"1000\", \"spi\": false, \"position_source\": 0}, {\"icao24\": \"4d20e9\", \"callsign\": \"VJT448  \", \"origin_country\": \"Malta\", \"time_position\": 1534676179, \"last_contact\": 1534676179, \"longitude\": 6.0843, \"latitude\": 45.9803, \"geo_altitude\": 13708.38, \"on_ground\": false, \"velocity\": 232.75, \"heading\": 128.72, \"vertical_rate\": 0.33, \"sensors\": null, \"baro_altitude\": 14226.54, \"squawk\": \"5234\", \"spi\": false, \"position_source\": 0}, {\"icao24\": \"49d044\", \"callsign\": \"ABP722  \", \"origin_country\": \"Czech Republic\", \"time_position\": 1534676179, \"last_contact\": 1534676180, \"longitude\": 9.6235, \"latitude\": 46.3529, \"geo_altitude\": 4648.2, \"on_ground\": false, \"velocity\": 161.52, \"heading\": 235.91, \"vertical_rate\": 6.83, \"sensors\": null, \"baro_altitude\": 4953, \"squawk\": \"7514\", \"spi\": false, \"position_source\": 0}, {\"icao24\": \"4cab96\", \"callsign\": \"RYR42BF \", \"origin_country\": \"Ireland\", \"time_position\": 1534676180, \"last_contact\": 1534676180, \"longitude\": 8.6365, \"latitude\": 46.3078, \"geo_altitude\": 8382, \"on_ground\": false, \"velocity\": 198.56, \"heading\": 174.2, \"vertical_rate\": -8.78, \"sensors\": null, \"baro_altitude\": 8831.58, \"squawk\": \"1123\", \"spi\": false, \"position_source\": 0}, {\"icao24\": \"392f2f\", \"callsign\": \"AFR218  \", \"origin_country\": \"France\", \"time_position\": 1534676178, \"last_contact\": 1534676179, \"longitude\": 9.542, \"latitude\": 47.5461, \"geo_altitude\": 10058.4, \"on_ground\": false, \"velocity\": 233.9, \"heading\": 105.56, \"vertical_rate\": 0, \"sensors\": null, \"baro_altitude\": 10523.22, \"squawk\": \"5637\", \"spi\": false, \"position_source\": 0}, {\"icao24\": \"71010f\", \"callsign\": \"SVA144  \", \"origin_country\": \"Saudi Arabia\", \"time_position\": 1534676179, \"last_contact\": 1534676179, \"longitude\": 9.8939, \"latitude\": 46.5591, \"geo_altitude\": 10668, \"on_ground\": false, \"velocity\": 238.38, \"heading\": 128.43, \"vertical_rate\": 0, \"sensors\": null, \"baro_altitude\": 11163.3, \"squawk\": \"5634\", \"spi\": false, \"position_source\": 0}, {\"icao24\": \"3ff248\", \"callsign\": \"DMWHE   \", \"origin_country\": \"Germany\", \"time_position\": 1534676179, \"last_contact\": 1534676180, \"longitude\": 10.239, \"latitude\": 47.7758, \"geo_altitude\": 1112.52, \"on_ground\": false, \"velocity\": 40.25, \"heading\": 321.23, \"vertical_rate\": -0.33, \"sensors\": null, \"baro_altitude\": 1196.34, \"squawk\": \"4404\", \"spi\": false, \"position_source\": 0}, {\"icao24\": \"4b18ba\", \"callsign\": \"EDW126S \", \"origin_country\": \"Switzerland\", \"time_position\": 1534676179, \"last_contact\": 1534676179, \"longitude\": 7.143, \"latitude\": 46.8728, \"geo_altitude\": 7764.78, \"on_ground\": false, \"velocity\": 227.61, \"heading\": 231.24, \"vertical_rate\": 9.75, \"sensors\": null, \"baro_altitude\": 8153.4, \"squawk\": \"3070\", \"spi\": false, \"position_source\": 0}, {\"icao24\": \"4bb841\", \"callsign\": \"PGT7XZ  \", \"origin_country\": \"Turkey\", \"time_position\": 1534676179, \"last_contact\": 1534676179, \"longitude\": 8.6011, \"latitude\": 47.6996, \"geo_altitude\": 2133.6, \"on_ground\": false, \"velocity\": 127.34, \"heading\": 254.05, \"vertical_rate\": 0.33, \"sensors\": null, \"baro_altitude\": 2331.72, \"squawk\": \"1000\", \"spi\": false, \"position_source\": 0}, {\"icao24\": \"4b18fc\", \"callsign\": \"SWR188  \", \"origin_country\": \"Switzerland\", \"time_position\": 1534676176, \"last_contact\": 1534676178, \"longitude\": 8.5534, \"latitude\": 47.4608, \"geo_altitude\": 350.52, \"on_ground\": true, \"velocity\": 0.06, \"heading\": 5, \"vertical_rate\": null, \"sensors\": null, \"baro_altitude\": null, \"squawk\": \"2000\", \"spi\": false, \"position_source\": 0}, {\"icao24\": \"4b1938\", \"callsign\": \"GSW6033 \", \"origin_country\": \"Switzerland\", \"time_position\": 1534675920, \"last_contact\": 1534675920, \"longitude\": 8.558, \"latitude\": 47.4516, \"geo_altitude\": null, \"on_ground\": true, \"velocity\": 0, \"heading\": 185, \"vertical_rate\": null, \"sensors\": null, \"baro_altitude\": null, \"squawk\": \"6235\", \"spi\": false, \"position_source\": 0}, {\"icao24\": \"3c66aa\", \"callsign\": \"DLH8NH  \", \"origin_country\": \"Germany\", \"time_position\": 1534676179, \"last_contact\": 1534676180, \"longitude\": 7.4027, \"latitude\": 47.2014, \"geo_altitude\": 3893.82, \"on_ground\": false, \"velocity\": 242.19, \"heading\": 210.65, \"vertical_rate\": -5.2, \"sensors\": null, \"baro_altitude\": 4259.58, \"squawk\": \"1000\", \"spi\": false, \"position_source\": 0}, {\"icao24\": \"4b17e0\", \"callsign\": \"SWR98A  \", \"origin_country\": \"Switzerland\", \"time_position\": 1534676172, \"last_contact\": 1534676173, \"longitude\": 8.5557, \"latitude\": 47.4544, \"geo_altitude\": 350.52, \"on_ground\": true, \"velocity\": 0, \"heading\": 185, \"vertical_rate\": null, \"sensors\": null, \"baro_altitude\": null, \"squawk\": \"2000\", \"spi\": false, \"position_source\": 0}, {\"icao24\": \"4b17e4\", \"callsign\": \"SWR1710 \", \"origin_country\": \"Switzerland\", \"time_position\": 1534676179, \"last_contact\": 1534676179, \"longitude\": 8.4502, \"latitude\": 47.2537, \"geo_altitude\": 3505.2, \"on_ground\": false, \"velocity\": 176.48, \"heading\": 159.35, \"vertical_rate\": 10.08, \"sensors\": null, \"baro_altitude\": 3764.28, \"squawk\": \"3027\", \"spi\": false, \"position_source\": 0}, {\"icao24\": \"4b17e5\", \"callsign\": \"SWR101A \", \"origin_country\": \"Switzerland\", \"time_position\": 1534676175, \"last_contact\": 1534676178, \"longitude\": 8.5553, \"latitude\": 47.4561, \"geo_altitude\": 350.52, \"on_ground\": true, \"velocity\": 0, \"heading\": 5, \"vertical_rate\": null, \"sensors\": null, \"baro_altitude\": null, \"squawk\": \"1000\", \"spi\": false, \"position_source\": 0}, {\"icao24\": \"4b4126\", \"callsign\": \"HBYRM   \", \"origin_country\": \"Switzerland\", \"time_position\": 1534676113, \"last_contact\": 1534676113, \"longitude\": 7.1527, \"latitude\": 46.9065, \"geo_altitude\": 1181.1, \"on_ground\": false, \"velocity\": 66.9, \"heading\": 190.19, \"vertical_rate\": -0.33, \"sensors\": null, \"baro_altitude\": 1341.12, \"squawk\": \"7000\", \"spi\": false, \"position_source\": 0}, {\"icao24\": \"4b17fe\", \"callsign\": \"\", \"origin_country\": \"Switzerland\", \"time_position\": 1534676099, \"last_contact\": 1534676174, \"longitude\": 8.5599, \"latitude\": 47.4466, \"geo_altitude\": 9441.18, \"on_ground\": false, \"velocity\": 0.06, \"heading\": 244, \"vertical_rate\": null, \"sensors\": null, \"baro_altitude\": null, \"squawk\": \"3074\", \"spi\": false, \"position_source\": 0}, {\"icao24\": \"4b17fa\", \"callsign\": \"SWR61D  \", \"origin_country\": \"Switzerland\", \"time_position\": 1534676121, \"last_contact\": 1534676172, \"longitude\": 8.5606, \"latitude\": 47.454, \"geo_altitude\": null, \"on_ground\": true, \"velocity\": 0, \"heading\": 185, \"vertical_rate\": null, \"sensors\": null, \"baro_altitude\": null, \"squawk\": \"1000\", \"spi\": false, \"position_source\": 0}, {\"icao24\": \"4403bf\", \"callsign\": \"EZY13JY \", \"origin_country\": \"Austria\", \"time_position\": 1534676179, \"last_contact\": 1534676179, \"longitude\": 9.0708, \"latitude\": 47.1121, \"geo_altitude\": 10972.8, \"on_ground\": false, \"velocity\": 247.71, \"heading\": 291.82, \"vertical_rate\": 0, \"sensors\": null, \"baro_altitude\": 11445.24, \"squawk\": \"5202\", \"spi\": false, \"position_source\": 0}, {\"icao24\": \"4403ec\", \"callsign\": \"GAC179Y \", \"origin_country\": \"Austria\", \"time_position\": 1534675967, \"last_contact\": 1534675968, \"longitude\": 8.9078, \"latitude\": 46.0031, \"geo_altitude\": null, \"on_ground\": true, \"velocity\": 2.06, \"heading\": 16, \"vertical_rate\": null, \"sensors\": null, \"baro_altitude\": null, \"squawk\": \"7330\", \"spi\": false, \"position_source\": 0}, {\"icao24\": \"4403f0\", \"callsign\": \"EZY2197 \", \"origin_country\": \"Austria\", \"time_position\": 1534676179, \"last_contact\": 1534676179, \"longitude\": 7.5015, \"latitude\": 47.6296, \"geo_altitude\": 274.32, \"on_ground\": false, \"velocity\": 72.51, \"heading\": 155.25, \"vertical_rate\": -3.25, \"sensors\": null, \"baro_altitude\": 358.14, \"squawk\": \"7275\", \"spi\": false, \"position_source\": 0}]'"
      ]
     },
     "execution_count": 59,
     "metadata": {},
     "output_type": "execute_result"
    }
   ],
   "source": [
    "data.encode('utf-8')"
   ]
  }
 ],
 "metadata": {
  "kernelspec": {
   "display_name": "Python 3",
   "language": "python",
   "name": "python3"
  },
  "language_info": {
   "codemirror_mode": {
    "name": "ipython",
    "version": 3
   },
   "file_extension": ".py",
   "mimetype": "text/x-python",
   "name": "python",
   "nbconvert_exporter": "python",
   "pygments_lexer": "ipython3",
   "version": "3.6.6"
  }
 },
 "nbformat": 4,
 "nbformat_minor": 2
}
